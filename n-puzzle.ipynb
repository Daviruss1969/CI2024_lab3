{
 "cells": [
  {
   "cell_type": "markdown",
   "metadata": {},
   "source": [
    "# N puzzle"
   ]
  },
  {
   "cell_type": "markdown",
   "metadata": {},
   "source": [
    "Specifications of the problem : [https://en.wikipedia.org/wiki/15_puzzle](https://en.wikipedia.org/wiki/15_puzzle)"
   ]
  },
  {
   "cell_type": "code",
   "execution_count": 39,
   "metadata": {},
   "outputs": [],
   "source": [
    "from collections import namedtuple\n",
    "from random import choice\n",
    "from tqdm.auto import tqdm\n",
    "from icecream import ic\n",
    "import numpy as np"
   ]
  },
  {
   "cell_type": "code",
   "execution_count": 40,
   "metadata": {},
   "outputs": [],
   "source": [
    "PUZZLE_DIM = 3\n",
    "action = namedtuple('Action', ['src', 'dst'])"
   ]
  },
  {
   "cell_type": "code",
   "execution_count": 41,
   "metadata": {},
   "outputs": [],
   "source": [
    "def available_actions(state: np.ndarray) -> list['Action']:\n",
    "    x, y = [int(_[0]) for _ in np.where(state == 0)]\n",
    "    actions = list()\n",
    "    if x > 0:\n",
    "        actions.append(action((x, y), (x - 1, y)))\n",
    "    if x < PUZZLE_DIM - 1:\n",
    "        actions.append(action((x, y), (x + 1, y)))\n",
    "    if y > 0:\n",
    "        actions.append(action((x, y), (x, y - 1)))\n",
    "    if y < PUZZLE_DIM - 1:\n",
    "        actions.append(action((x, y), (x, y + 1)))\n",
    "    return actions\n",
    "\n",
    "\n",
    "\n",
    "def do_action(state: np.ndarray, action: 'Action') -> np.ndarray:\n",
    "    new_state = state.copy()\n",
    "    new_state[action.src], new_state[action.dst] = new_state[action.dst], new_state[action.src]\n",
    "    return new_state"
   ]
  },
  {
   "cell_type": "code",
   "execution_count": 42,
   "metadata": {},
   "outputs": [
    {
     "name": "stderr",
     "output_type": "stream",
     "text": [
      "Randomizing: 100%|██████████| 100000/100000 [00:00<00:00, 209287.83it/s]\n",
      "ic| state: array([[2, 8, 5],\n",
      "                  [4, 0, 7],\n",
      "                  [6, 3, 1]])\n",
      "ic| SOLUTION: array([[1, 2, 3],\n",
      "                     [4, 5, 6],\n",
      "                     [7, 8, 0]])\n"
     ]
    },
    {
     "data": {
      "text/plain": [
       "array([[1, 2, 3],\n",
       "       [4, 5, 6],\n",
       "       [7, 8, 0]])"
      ]
     },
     "execution_count": 42,
     "metadata": {},
     "output_type": "execute_result"
    }
   ],
   "source": [
    "RANDOMIZE_STEPS = 100_000\n",
    "SOLUTION = np.array([i for i in range(1, PUZZLE_DIM**2)] + [0]).reshape((PUZZLE_DIM, PUZZLE_DIM))\n",
    "\n",
    "state = SOLUTION.copy()\n",
    "for r in tqdm(range(RANDOMIZE_STEPS), desc='Randomizing'):\n",
    "    state = do_action(state, choice(available_actions(state)))\n",
    "\n",
    "ic(state)\n",
    "ic(SOLUTION)"
   ]
  },
  {
   "cell_type": "code",
   "execution_count": 43,
   "metadata": {},
   "outputs": [],
   "source": [
    "def n_puzzle(state):\n",
    "    frontier = list()\n",
    "    while state is not None and not np.array_equal(SOLUTION, state):\n",
    "        for action in available_actions(state):\n",
    "            new_state = do_action(state, action)\n",
    "            frontier.append(new_state)\n",
    "        state = frontier.pop()\n",
    "    return state"
   ]
  },
  {
   "cell_type": "code",
   "execution_count": 44,
   "metadata": {},
   "outputs": [],
   "source": [
    "# final_state = n_puzzle(state)\n",
    "# ic(final_state)"
   ]
  },
  {
   "cell_type": "code",
   "execution_count": 48,
   "metadata": {},
   "outputs": [],
   "source": [
    "def n_puzzle_with_explored(state):\n",
    "    \"\"\"\n",
    "    Résolution d'un puzzle en évitant les états redondants.\n",
    "    Utilise une recherche en profondeur (DFS) avec un ensemble pour mémoriser les états visités.\n",
    "    \"\"\"\n",
    "    frontier = [state]  # La pile des états à explorer\n",
    "    explored = set()    # Ensemble des états déjà explorés\n",
    "\n",
    "    while frontier:\n",
    "        # Récupère le prochain état à explorer\n",
    "        current_state = frontier.pop()\n",
    "\n",
    "        # Vérifie si la solution est atteinte\n",
    "        if np.array_equal(SOLUTION, current_state):\n",
    "            return current_state\n",
    "\n",
    "        # Transforme l'état actuel en tuple pour le suivi des explorations\n",
    "        current_tuple = tuple(map(tuple, current_state))\n",
    "        \n",
    "        # Si déjà exploré, passe à l'état suivant\n",
    "        if current_tuple in explored:\n",
    "            continue\n",
    "\n",
    "        # Marque l'état comme exploré\n",
    "        explored.add(current_tuple)\n",
    "\n",
    "        # Explore les actions possibles\n",
    "        for action in available_actions(current_state):\n",
    "            new_state = do_action(current_state, action)\n",
    "            frontier.append(new_state)\n",
    "\n",
    "    # Si aucune solution n'est trouvée\n",
    "    return None"
   ]
  },
  {
   "cell_type": "code",
   "execution_count": 49,
   "metadata": {},
   "outputs": [
    {
     "name": "stderr",
     "output_type": "stream",
     "text": [
      "ic| final_state: array([[1, 2, 3],\n",
      "                        [4, 5, 6],\n",
      "                        [7, 8, 0]])\n"
     ]
    },
    {
     "data": {
      "text/plain": [
       "array([[1, 2, 3],\n",
       "       [4, 5, 6],\n",
       "       [7, 8, 0]])"
      ]
     },
     "execution_count": 49,
     "metadata": {},
     "output_type": "execute_result"
    }
   ],
   "source": [
    "final_state = n_puzzle_with_explored(state)\n",
    "ic(final_state)"
   ]
  }
 ],
 "metadata": {
  "kernelspec": {
   "display_name": "ci2024-lab3-93zH8EBI-py3.10",
   "language": "python",
   "name": "python3"
  },
  "language_info": {
   "codemirror_mode": {
    "name": "ipython",
    "version": 3
   },
   "file_extension": ".py",
   "mimetype": "text/x-python",
   "name": "python",
   "nbconvert_exporter": "python",
   "pygments_lexer": "ipython3",
   "version": "3.10.12"
  }
 },
 "nbformat": 4,
 "nbformat_minor": 2
}
